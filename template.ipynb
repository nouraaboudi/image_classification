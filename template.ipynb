{
 "cells": [
  {
   "cell_type": "code",
   "execution_count": null,
   "metadata": {},
   "outputs": [],
   "source": [
    "import os\n",
    "import tensorflow as tf \n",
    "from pathlib import path \n",
    "import logging\n",
    "logging.basicConfig(level=logging.INFO, format='[%(asctime)s]:%(message)s:')\n",
    "project_name=\"CNN_classifier\"\n",
    "list_of_files=[\n",
    "    \".github/workflows/.gitkeep\",\n",
    "    f\"src/{project_name0}/__init__.py\",\n",
    "    f\"src/{project_name0}/components/__init__.py\",\n",
    "    f\"src/{project_name0}/utils/__init__.py\",\n",
    "    f\"src/{project_name0}/config/__init__.py\",\n",
    "    f\"src/{project_name0}/pipeline/__init__.py\",\n",
    "    f\"src/{project_name0}/entity/__init__.py\",\n",
    "    f\"src/{project_name0}/constants/__init__.py\",\n",
    "    \"config/config.yaml\",\n",
    "    \"dvc.yaml\",\n",
    "    \"params.yaml\",\n",
    "    \"requirements.txt\",\n",
    "    \"setup.py\",\n",
    "    \"research/trials.ipynb\"\n",
    "]\n",
    "for filepath in list_of_files:\n",
    "    filepath=path(filepath)\n",
    "    filedir,filename=os.path.split()\n",
    "\n",
    "    if filedir !=\"\":\n",
    "        os.makedirs(filedir, exist_ok=True)\n",
    "        logging.INFO(f\"Creating directory: {filedir} for the file: {filename}\")\n",
    "\n",
    "    if (not os.path.exists(filepath) or (os.path.getsize(filepath)==0)):\n",
    "        f= open (filepath, 'w') as f:\n",
    "        pass\n",
    "        logging.INFO(f\"Creating empty file:{filepath}\")\n",
    "    else:\n",
    "        logging.INFO(f\"{filepath} is exists already\")\n",
    "        "
   ]
  },
  {
   "cell_type": "code",
   "execution_count": null,
   "metadata": {},
   "outputs": [],
   "source": []
  }
 ],
 "metadata": {
  "language_info": {
   "name": "python"
  }
 },
 "nbformat": 4,
 "nbformat_minor": 2
}
